{
 "cells": [
  {
   "cell_type": "markdown",
   "id": "f8f7993a-0fb2-4e56-9497-60ff3c3e02d0",
   "metadata": {},
   "source": [
    "# Data Science Tools and Ecosystem"
   ]
  },
  {
   "cell_type": "markdown",
   "id": "c6a00959-a698-4762-be99-97cf889b70b2",
   "metadata": {},
   "source": [
    "In this notebook, Data Science Tools and Ecosystem are summarized."
   ]
  },
  {
   "cell_type": "markdown",
   "id": "26ee794e-f43a-4d5d-ae73-b2a32862c980",
   "metadata": {},
   "source": [
    "# Objectives: \n",
    "* List popular languages for Data Science.\n",
    "* Convert 200 minutes to hours by diving by 60.\n",
    "* Simple arithmetic expression to mutiply then add integers."
   ]
  },
  {
   "cell_type": "code",
   "execution_count": null,
   "id": "28222687-c9b6-48a0-ac16-e87beb04bf45",
   "metadata": {},
   "outputs": [],
   "source": [
    "Some of the popular languages that Data Scientists use are:\n",
    "1. Python\n",
    "2. R\n",
    "3. Julia"
   ]
  },
  {
   "cell_type": "code",
   "execution_count": null,
   "id": "67bcec36-3ed1-4094-84e0-19c115afc97d",
   "metadata": {},
   "outputs": [],
   "source": [
    "Some of the commonly used libraries used by Data Scientists include:\n",
    "1. numpy\n",
    "2. pandas\n",
    "3. scikit-learn"
   ]
  },
  {
   "cell_type": "markdown",
   "id": "fac63b3c-4c19-4c6a-a922-37b9003fd620",
   "metadata": {},
   "source": [
    "|Data Science Tools|\n",
    "|------------------|\n",
    "|Python            |\n",
    "|R                 |\n",
    "|Jupyter Notebook  |"
   ]
  },
  {
   "cell_type": "markdown",
   "id": "2d5f05f4-5e91-4384-9029-d8572baaefc3",
   "metadata": {},
   "source": [
    "### Below are a few examples of evaluating arithmetic expressions in Python."
   ]
  },
  {
   "cell_type": "code",
   "execution_count": 4,
   "id": "8af5db21-1f50-4275-9d08-307d343289fc",
   "metadata": {},
   "outputs": [
    {
     "name": "stdout",
     "output_type": "stream",
     "text": [
      "17\n"
     ]
    }
   ],
   "source": [
    "# This a simple arithmetic expression to mutiply then add integers.\n",
    "x = (3*4)+5\n",
    "print (x) \n"
   ]
  },
  {
   "cell_type": "code",
   "execution_count": 5,
   "id": "05849455-41df-439a-8959-37762526bcf0",
   "metadata": {},
   "outputs": [
    {
     "name": "stdout",
     "output_type": "stream",
     "text": [
      "3.3333333333333335\n"
     ]
    }
   ],
   "source": [
    "# This will convert 200 minutes to hours by diving by 60.\n",
    "x = 200/60\n",
    "print (x)"
   ]
  },
  {
   "cell_type": "markdown",
   "id": "ebadb9da-0fe2-4670-ac5b-1db0164d4026",
   "metadata": {},
   "source": [
    "## Author\n",
    "James Barker"
   ]
  },
  {
   "cell_type": "code",
   "execution_count": null,
   "id": "6e6046b5-9ee9-463e-b311-b1ea952049a9",
   "metadata": {},
   "outputs": [],
   "source": []
  }
 ],
 "metadata": {
  "kernelspec": {
   "display_name": "Python 3 (ipykernel)",
   "language": "python",
   "name": "python3"
  },
  "language_info": {
   "codemirror_mode": {
    "name": "ipython",
    "version": 3
   },
   "file_extension": ".py",
   "mimetype": "text/x-python",
   "name": "python",
   "nbconvert_exporter": "python",
   "pygments_lexer": "ipython3",
   "version": "3.12.8"
  }
 },
 "nbformat": 4,
 "nbformat_minor": 5
}
